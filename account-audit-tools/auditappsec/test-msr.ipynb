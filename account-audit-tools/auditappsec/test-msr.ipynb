{
 "cells": [
  {
   "cell_type": "code",
   "execution_count": 2,
   "id": "2a714fd7-cd33-49f8-a278-c1e0dffcaf12",
   "metadata": {},
   "outputs": [
    {
     "name": "stdout",
     "output_type": "stream",
     "text": [
      "Hello World\n"
     ]
    }
   ],
   "source": [
    "print(\"Hello World\")"
   ]
  },
  {
   "cell_type": "code",
   "execution_count": 1,
   "id": "60cb3c78-bb67-4d78-a137-eb731738e50a",
   "metadata": {},
   "outputs": [
    {
     "name": "stdout",
     "output_type": "stream",
     "text": [
      "Loaded All Packages\n"
     ]
    }
   ],
   "source": [
    "import argparse\n",
    "import re\n",
    "from concurrent.futures import ThreadPoolExecutor\n",
    "from datetime import datetime\n",
    "from pathlib import Path\n",
    "\n",
    "import pandas as pd\n",
    "import requests\n",
    "import yaml\n",
    "from akamai.edgegrid import EdgeGridAuth, EdgeRc\n",
    "from tqdm import tqdm\n",
    "\n",
    "from dataframes import parser as dataframes\n",
    "from endpoints import apidefinitions, appsec, clientlist, identity\n",
    "\n",
    "print(\"Loaded All Packages\")"
   ]
  },
  {
   "cell_type": "code",
   "execution_count": null,
   "id": "b00a223d-1b01-4473-b311-600412a2ad19",
   "metadata": {},
   "outputs": [],
   "source": []
  },
  {
   "cell_type": "code",
   "execution_count": null,
   "id": "41bcd80d-987e-4abe-ac99-741dc4b0f41d",
   "metadata": {},
   "outputs": [],
   "source": []
  },
  {
   "cell_type": "code",
   "execution_count": null,
   "id": "5cb902a3-28b0-4f34-886e-7bd5009825a7",
   "metadata": {},
   "outputs": [],
   "source": []
  }
 ],
 "metadata": {
  "kernelspec": {
   "display_name": "Python 3 (ipykernel)",
   "language": "python",
   "name": "python3"
  },
  "language_info": {
   "codemirror_mode": {
    "name": "ipython",
    "version": 3
   },
   "file_extension": ".py",
   "mimetype": "text/x-python",
   "name": "python",
   "nbconvert_exporter": "python",
   "pygments_lexer": "ipython3",
   "version": "3.13.1"
  }
 },
 "nbformat": 4,
 "nbformat_minor": 5
}
