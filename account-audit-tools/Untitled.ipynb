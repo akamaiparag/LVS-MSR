{
 "cells": [
  {
   "cell_type": "code",
   "execution_count": 2,
   "id": "8603f428-4232-47f3-8238-fb33364e3dbb",
   "metadata": {},
   "outputs": [],
   "source": [
    "import argparse\n",
    "import re\n",
    "from concurrent.futures import ThreadPoolExecutor\n",
    "from datetime import datetime\n",
    "from pathlib import Path\n",
    "\n",
    "import pandas as pd\n",
    "import requests\n",
    "import yaml\n",
    "from akamai.edgegrid import EdgeGridAuth, EdgeRc\n",
    "from tqdm import tqdm\n",
    "\n",
    "from auditappsec.dataframes import parser as dataframes\n",
    "from auditappsec.endpoints import apidefinitions, appsec, clientlist, identity"
   ]
  },
  {
   "cell_type": "code",
   "execution_count": 3,
   "id": "227e8ef2-701d-4d81-a2a9-b235871756a2",
   "metadata": {},
   "outputs": [],
   "source": [
    "def account_switch_keys(session, base_url, account):\n",
    "    url = urljoin(\n",
    "        base_url, \"/identity-management/v3/api-clients/self/account-switch-keys\"\n",
    "    )\n",
    "    query = {\"search\": account}\n",
    "\n",
    "    response = session.get(url, params=query)\n",
    "\n",
    "    return response"
   ]
  },
  {
   "cell_type": "code",
   "execution_count": 4,
   "id": "158f859c-f290-43ac-8db8-d93809e5f596",
   "metadata": {},
   "outputs": [],
   "source": [
    "session = requests.Session()"
   ]
  },
  {
   "cell_type": "code",
   "execution_count": 5,
   "id": "9b599d15-fdef-4932-b13e-d411fd938316",
   "metadata": {},
   "outputs": [],
   "source": [
    "base_url = base_url = \"https://%s\" % \"akab-cgr7pmpehndmwg3p-x3qoz2j2k372sg5a.luna.akamaiapis.net\""
   ]
  },
  {
   "cell_type": "code",
   "execution_count": 6,
   "id": "8bfc35d6-da07-467a-97d7-a9da96ed0f39",
   "metadata": {},
   "outputs": [
    {
     "name": "stdout",
     "output_type": "stream",
     "text": [
      "https://akab-cgr7pmpehndmwg3p-x3qoz2j2k372sg5a.luna.akamaiapis.net\n"
     ]
    }
   ],
   "source": [
    "print(base_url)"
   ]
  },
  {
   "cell_type": "code",
   "execution_count": null,
   "id": "95cff7cb-101c-4dd4-9da8-856f6aa2a756",
   "metadata": {},
   "outputs": [],
   "source": []
  }
 ],
 "metadata": {
  "kernelspec": {
   "display_name": "Python 3 (ipykernel)",
   "language": "python",
   "name": "python3"
  },
  "language_info": {
   "codemirror_mode": {
    "name": "ipython",
    "version": 3
   },
   "file_extension": ".py",
   "mimetype": "text/x-python",
   "name": "python",
   "nbconvert_exporter": "python",
   "pygments_lexer": "ipython3",
   "version": "3.13.1"
  }
 },
 "nbformat": 4,
 "nbformat_minor": 5
}
